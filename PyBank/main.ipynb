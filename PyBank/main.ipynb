{
 "cells": [
  {
   "cell_type": "code",
   "execution_count": 1,
   "id": "1af580ac-4c52-40cd-bd45-01612920fe04",
   "metadata": {},
   "outputs": [
    {
     "name": "stdout",
     "output_type": "stream",
     "text": [
      "Total Months: 86\n",
      "Total: $38382578\n",
      "Average Change: $-2315.12\n",
      "Greatest Increase in Profits: Feb-2012 ($1926159)\n",
      "Greatest Decrease in Profits: Sep-2013 ($-2196167)\n"
     ]
    }
   ],
   "source": [
    "import pandas as pd\n",
    "\n",
    "# Read the data into a pandas dataframe\n",
    "df = pd.read_csv('budget_data.csv')\n",
    "\n",
    "# Calculate the total number of months\n",
    "num_months = len(df)\n",
    "\n",
    "# Calculate the net total amount of profit/losses\n",
    "net_profit = df['Profit/Losses'].sum()\n",
    "\n",
    "# Calculate the changes in profit/losses over the entire period\n",
    "changes = df['Profit/Losses'].diff()\n",
    "avg_change = changes.mean()\n",
    "\n",
    "# Calculate the greatest increase and decrease in profits\n",
    "max_increase = changes.max()\n",
    "max_increase_date = df.loc[changes.idxmax(), 'Date']\n",
    "max_decrease = changes.min()\n",
    "max_decrease_date = df.loc[changes.idxmin(), 'Date']\n",
    "\n",
    "# Print the results\n",
    "print(f'Total Months: {num_months}')\n",
    "print(f'Total: ${net_profit}')\n",
    "print(f'Average Change: ${avg_change:.2f}')\n",
    "print(f'Greatest Increase in Profits: {max_increase_date} (${max_increase:.0f})')\n",
    "print(f'Greatest Decrease in Profits: {max_decrease_date} (${max_decrease:.0f})')\n",
    "\n",
    "\n",
    "#Note that this script assumes that the data is in a CSV file called budget_data.csv in the same directory as the script. If your data is in a different format or location, you may need to adjust the script accordingly. Also note that the f strings used in the print statements require Python 3.6 or later."
   ]
  },
  {
   "cell_type": "code",
   "execution_count": null,
   "id": "cee50bac-765b-456e-85c3-de00342a8448",
   "metadata": {},
   "outputs": [],
   "source": []
  }
 ],
 "metadata": {
  "kernelspec": {
   "display_name": "Python 3 (ipykernel)",
   "language": "python",
   "name": "python3"
  },
  "language_info": {
   "codemirror_mode": {
    "name": "ipython",
    "version": 3
   },
   "file_extension": ".py",
   "mimetype": "text/x-python",
   "name": "python",
   "nbconvert_exporter": "python",
   "pygments_lexer": "ipython3",
   "version": "3.9.13"
  }
 },
 "nbformat": 4,
 "nbformat_minor": 5
}
